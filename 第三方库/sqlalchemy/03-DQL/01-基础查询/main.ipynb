{
 "cells": [
  {
   "cell_type": "code",
   "execution_count": 73,
   "metadata": {
    "collapsed": true,
    "ExecuteTime": {
     "end_time": "2023-08-10T16:11:02.271690Z",
     "start_time": "2023-08-10T16:11:02.265866Z"
    }
   },
   "outputs": [],
   "source": [
    "from sqlalchemy import select\n",
    "from sqlalchemy.orm import aliased\n",
    "\n",
    "from 第三方库.sqlalchemy.common.database import UsingAlchemy\n",
    "from 第三方库.sqlalchemy.common.models import Student"
   ]
  },
  {
   "cell_type": "code",
   "execution_count": 28,
   "outputs": [
    {
     "name": "stdout",
     "output_type": "stream",
     "text": [
      "====1.x====\n",
      "query: <class 'sqlalchemy.orm.query.Query'> SELECT student.id AS student_id, student.name AS student_name, student.age AS student_age, student.t_id AS student_t_id \n",
      "FROM student\n",
      "====2.x====\n",
      "stmt: <class 'sqlalchemy.sql.selectable.Select'> SELECT student.id, student.name, student.age, student.t_id \n",
      "FROM student\n"
     ]
    }
   ],
   "source": [
    "# 查询所有列\n",
    "with UsingAlchemy() as ua:\n",
    "    print(\"====1.x====\")\n",
    "    query = ua.session.query(Student)\n",
    "    print(\"query:\", type(query), query)\n",
    "\n",
    "    print(\"====2.x====\")\n",
    "    stmt = select(Student)\n",
    "    print(\"stmt:\", type(stmt), stmt)"
   ],
   "metadata": {
    "collapsed": false,
    "ExecuteTime": {
     "end_time": "2023-08-10T15:39:55.430454Z",
     "start_time": "2023-08-10T15:39:55.425479Z"
    }
   }
  },
  {
   "cell_type": "code",
   "execution_count": 71,
   "outputs": [
    {
     "name": "stdout",
     "output_type": "stream",
     "text": [
      "====1.x====\n",
      "query: SELECT student.id AS student_id, student.name AS student_name \n",
      "FROM student\n",
      "====2.x====\n",
      "stmt: SELECT student.id, student.name \n",
      "FROM student\n"
     ]
    }
   ],
   "source": [
    "# 查询指定列\n",
    "with UsingAlchemy() as ua:\n",
    "    print(\"====1.x====\")\n",
    "    query = ua.session.query(Student.id, Student.name)\n",
    "    print(\"query:\", query)\n",
    "\n",
    "    print(\"====2.x====\")\n",
    "    stmt = select(Student.id, Student.name)\n",
    "    print(\"stmt:\", stmt)"
   ],
   "metadata": {
    "collapsed": false,
    "ExecuteTime": {
     "end_time": "2023-08-10T16:08:14.770481Z",
     "start_time": "2023-08-10T16:08:14.765727Z"
    }
   }
  },
  {
   "cell_type": "code",
   "execution_count": 76,
   "outputs": [
    {
     "name": "stdout",
     "output_type": "stream",
     "text": [
      "====1.x====\n",
      "SELECT student_alias.id AS student_alias_id, student_alias.name AS student_alias_name, student_alias.age AS student_alias_age, student_alias.t_id AS student_alias_t_id, student_alias.name AS student_alias_name__1 \n",
      "FROM student AS student_alias\n",
      "====2.x====\n",
      "SELECT student_alias.id, student_alias.name, student_alias.age, student_alias.t_id \n",
      "FROM student AS student_alias\n"
     ]
    }
   ],
   "source": [
    "# 类别名\n",
    "with UsingAlchemy() as ua:\n",
    "    student_alias = aliased(Student, name=\"student_alias\")\n",
    "    query = ua.session.query(student_alias, student_alias.name)\n",
    "    print(\"====1.x====\")\n",
    "    print(query)\n",
    "\n",
    "    print(\"====2.x====\")\n",
    "    stmt = select(student_alias)\n",
    "    print(stmt)"
   ],
   "metadata": {
    "collapsed": false,
    "ExecuteTime": {
     "end_time": "2023-08-10T16:12:11.605667Z",
     "start_time": "2023-08-10T16:12:11.600428Z"
    }
   }
  },
  {
   "cell_type": "code",
   "execution_count": 65,
   "outputs": [
    {
     "name": "stdout",
     "output_type": "stream",
     "text": [
      "====1.x====\n",
      "[('张三', 18), ('李四', 32), ('王五', None), ('张三', 18), ('张三', 19), ('张三', 20), ('张三1', 20)]\n",
      "====2.x====\n",
      "[('张三', 18), ('李四', 32), ('王五', None), ('张三', 18), ('张三', 19), ('张三', 20), ('张三1', 20)]\n"
     ]
    }
   ],
   "source": [
    "# 查询结果转换为列表，获取所有数据\n",
    "with UsingAlchemy() as ua:\n",
    "    print(\"====1.x====\")\n",
    "    student_list = ua.session.query(Student.name, Student.age).all()\n",
    "    print(student_list)\n",
    "\n",
    "    print(\"====2.x====\")\n",
    "    stmt = select(Student.name, Student.age)\n",
    "    result = ua.session.execute(stmt)\n",
    "    student_list = result.all()\n",
    "    print(student_list)"
   ],
   "metadata": {
    "collapsed": false,
    "ExecuteTime": {
     "end_time": "2023-08-10T16:04:38.566066Z",
     "start_time": "2023-08-10T16:04:38.521755Z"
    }
   }
  },
  {
   "cell_type": "code",
   "execution_count": 48,
   "outputs": [
    {
     "name": "stdout",
     "output_type": "stream",
     "text": [
      "====1.x====\n",
      "('张三', 18)\n",
      "====2.x====\n",
      "('张三', 18)\n"
     ]
    }
   ],
   "source": [
    "# 查询结果转换为列表，获取第一行\n",
    "with UsingAlchemy() as ua:\n",
    "    print(\"====1.x====\")\n",
    "    student = ua.session.query(Student.name, Student.age).first()\n",
    "    print(student)\n",
    "\n",
    "    print(\"====2.x====\")\n",
    "    stmt = select(Student.name, Student.age)\n",
    "    result = ua.session.execute(stmt)\n",
    "    student = result.first()\n",
    "    print(student)"
   ],
   "metadata": {
    "collapsed": false,
    "ExecuteTime": {
     "end_time": "2023-08-10T15:51:58.555129Z",
     "start_time": "2023-08-10T15:51:58.505005Z"
    }
   }
  },
  {
   "cell_type": "code",
   "execution_count": 54,
   "outputs": [
    {
     "name": "stdout",
     "output_type": "stream",
     "text": [
      "====1.x====\n",
      "('张三',)\n",
      "====1.x====\n",
      "('张三',)\n"
     ]
    }
   ],
   "source": [
    "# 查询结果转换为列表，当且仅当只有一行，获取第一行\n",
    "with UsingAlchemy() as ua:\n",
    "    print(\"====1.x====\")\n",
    "    student = ua.session.query(Student.name).filter(Student.id == 1).one()\n",
    "    print(student)\n",
    "\n",
    "    print(\"====2.x====\")\n",
    "    stmt = select(Student.name).where(Student.id == 1)\n",
    "    result = ua.session.execute(stmt)\n",
    "    student = result.one()\n",
    "    print(student)"
   ],
   "metadata": {
    "collapsed": false,
    "ExecuteTime": {
     "end_time": "2023-08-10T15:53:29.385243Z",
     "start_time": "2023-08-10T15:53:29.329338Z"
    }
   }
  },
  {
   "cell_type": "code",
   "execution_count": 69,
   "outputs": [
    {
     "name": "stdout",
     "output_type": "stream",
     "text": [
      "====1.x====\n",
      "张三\n",
      "====2.x====\n",
      "张三\n",
      "张三\n"
     ]
    }
   ],
   "source": [
    "# 查询结果转换为列表，获取第一行第一列的值\n",
    "with UsingAlchemy() as ua:\n",
    "    print(\"====1.x====\")\n",
    "    student = ua.session.query(Student.name).filter(Student.id == 1).scalar()\n",
    "    print(student)\n",
    "\n",
    "    print(\"====2.x====\")\n",
    "    stmt = select(Student.name).where(Student.id == 1)\n",
    "    result = ua.session.execute(stmt)\n",
    "    student = result.scalar()\n",
    "    print(student)\n",
    "\n",
    "    result = ua.session.scalars(stmt)\n",
    "    student = result.first()\n",
    "    print(student)"
   ],
   "metadata": {
    "collapsed": false,
    "ExecuteTime": {
     "end_time": "2023-08-10T16:05:51.843927Z",
     "start_time": "2023-08-10T16:05:51.797284Z"
    }
   }
  }
 ],
 "metadata": {
  "kernelspec": {
   "display_name": "Python 3",
   "language": "python",
   "name": "python3"
  },
  "language_info": {
   "codemirror_mode": {
    "name": "ipython",
    "version": 2
   },
   "file_extension": ".py",
   "mimetype": "text/x-python",
   "name": "python",
   "nbconvert_exporter": "python",
   "pygments_lexer": "ipython2",
   "version": "2.7.6"
  }
 },
 "nbformat": 4,
 "nbformat_minor": 0
}
