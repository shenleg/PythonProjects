{
 "cells": [
  {
   "cell_type": "raw",
   "source": [
    "from selenium import webdriver\n",
    "from selenium.webdriver.common.by import By\n",
    "\n",
    "# Create a new instance of the Chrome driver\n",
    "browser = webdriver.Chrome()\n",
    "\n",
    "# Get the URL of the webpage\n",
    "browser.get(r'https://www.baidu.com')\n",
    "\n",
    "# Find the element with the class name index-logo-srcnew\n",
    "logo = browser.find_element(By.CLASS_NAME, 'index-logo-srcnew')\n",
    "print(logo.id)\n",
    "print(logo.location)  # 页面位置\n",
    "print(logo.tag_name)\n",
    "print(logo.size)\n",
    "print(logo.rect)  # size 和 location 结合\n",
    "print(logo.tag_name)\n",
    "\n",
    "# Close the browser\n",
    "browser.close()"
   ],
   "metadata": {
    "collapsed": false
   }
  }
 ],
 "metadata": {
  "kernelspec": {
   "display_name": "Python 3",
   "language": "python",
   "name": "python3"
  },
  "language_info": {
   "codemirror_mode": {
    "name": "ipython",
    "version": 2
   },
   "file_extension": ".py",
   "mimetype": "text/x-python",
   "name": "python",
   "nbconvert_exporter": "python",
   "pygments_lexer": "ipython2",
   "version": "2.7.6"
  }
 },
 "nbformat": 4,
 "nbformat_minor": 0
}
