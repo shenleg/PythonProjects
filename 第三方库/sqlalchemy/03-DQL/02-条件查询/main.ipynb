{
 "cells": [
  {
   "cell_type": "code",
   "execution_count": 12,
   "metadata": {
    "collapsed": true,
    "ExecuteTime": {
     "end_time": "2023-08-10T15:19:20.889517Z",
     "start_time": "2023-08-10T15:19:20.883566Z"
    }
   },
   "outputs": [],
   "source": [
    "from sqlalchemy import select, or_, and_, not_\n",
    "\n",
    "from 第三方库.sqlalchemy.common.database import UsingAlchemy\n",
    "from 第三方库.sqlalchemy.common.models import Student"
   ]
  },
  {
   "cell_type": "code",
   "execution_count": 16,
   "outputs": [
    {
     "name": "stdout",
     "output_type": "stream",
     "text": [
      "====1.x====\n",
      "filter比较运算符 SELECT student.id AS student_id, student.name AS student_name, student.age AS student_age, student.t_id AS student_t_id \n",
      "FROM student \n",
      "WHERE student.id = %(id_1)s AND student.id != %(id_2)s AND student.id > %(id_3)s AND student.id < %(id_4)s AND student.id >= %(id_5)s AND student.id <= %(id_6)s\n",
      "filter_by比较运算符 SELECT student.id AS student_id, student.name AS student_name, student.age AS student_age, student.t_id AS student_t_id \n",
      "FROM student \n",
      "WHERE student.id = %(id_1)s AND student.name = %(name_1)s\n",
      "====2.x====\n",
      "stmt: SELECT student.id, student.name, student.age, student.t_id \n",
      "FROM student \n",
      "WHERE student.id = :id_1 AND student.id != :id_2 AND student.id > :id_3 AND student.id < :id_4 AND student.id >= :id_5 AND student.id <= :id_6\n"
     ]
    }
   ],
   "source": [
    "# 比较运算符\n",
    "with UsingAlchemy() as ua:\n",
    "    print(\"====1.x====\")\n",
    "    # filter 非等值比较、逻辑运算符\n",
    "    query = ua.session.query(Student).filter(\n",
    "        Student.id == 1, Student.id != \"1\", Student.id > 1,\n",
    "        Student.id < 1, Student.id >= 1, Student.id <= 1,\n",
    "    )\n",
    "    print(\"filter比较运算符\", query)\n",
    "    # filter_by 简单的相等性比较查询\n",
    "    query = ua.session.query(Student).filter_by(id=1, name=\"张三\")\n",
    "    print(\"filter_by比较运算符\", query)\n",
    "\n",
    "    print(\"====2.x====\")\n",
    "    stmt = select(Student).where(\n",
    "        Student.id == 1, Student.id != \"1\", Student.id > 1,\n",
    "        Student.id < 1, Student.id >= 1, Student.id <= 1,\n",
    "    )\n",
    "    print(\"stmt:\", stmt)"
   ],
   "metadata": {
    "collapsed": false,
    "ExecuteTime": {
     "end_time": "2023-08-10T15:26:59.565229Z",
     "start_time": "2023-08-10T15:26:59.560111Z"
    }
   }
  },
  {
   "cell_type": "code",
   "execution_count": 20,
   "outputs": [
    {
     "name": "stdout",
     "output_type": "stream",
     "text": [
      "====1.x====\n",
      "and_filter1 SELECT student.id AS student_id, student.name AS student_name, student.age AS student_age, student.t_id AS student_t_id \n",
      "FROM student \n",
      "WHERE student.id = %(id_1)s AND student.name = %(name_1)s\n",
      "and_filter2 SELECT student.id AS student_id, student.name AS student_name, student.age AS student_age, student.t_id AS student_t_id \n",
      "FROM student \n",
      "WHERE student.id = %(id_1)s AND student.name = %(name_1)s\n",
      "and_filter3 SELECT student.id AS student_id, student.name AS student_name, student.age AS student_age, student.t_id AS student_t_id \n",
      "FROM student \n",
      "WHERE student.id = %(id_1)s AND student.name = %(name_1)s\n",
      "====2.x====\n",
      "and_where1 SELECT student.id, student.name, student.age, student.t_id \n",
      "FROM student \n",
      "WHERE student.id = :id_1 AND student.name = :name_1\n",
      "and_where2 SELECT student.id, student.name, student.age, student.t_id \n",
      "FROM student \n",
      "WHERE student.id = :id_1 AND student.name = :name_1\n",
      "and_where3 SELECT student.id, student.name, student.age, student.t_id \n",
      "FROM student \n",
      "WHERE student.id = :id_1 AND student.name = :name_1\n"
     ]
    }
   ],
   "source": [
    "# AND\n",
    "with UsingAlchemy() as ua:\n",
    "    print(\"====1.x====\")\n",
    "    # 使用filter默认就是and，多个参数形式\n",
    "    query = ua.session.query(Student).filter(\n",
    "        Student.id == 1, Student.name == \"张三\"\n",
    "    )\n",
    "    print(\"and_filter1\", query)\n",
    "    # 使用filter默认就是and，多个filter形式\n",
    "    query = ua.session.query(Student).filter(\n",
    "        Student.id == 1).filter(Student.name == \"张三\")\n",
    "    print(\"and_filter2\", query)\n",
    "    # 使用 and_\n",
    "    query = ua.session.query(Student).filter(\n",
    "        and_(Student.id == 1, Student.name == \"张三\")\n",
    "    )\n",
    "    print(\"and_filter3\", query)\n",
    "\n",
    "\n",
    "    print(\"====2.x====\")\n",
    "    # 使用where默认就是and，多个参数形式\n",
    "    stmt = select(Student).where(\n",
    "        Student.id == 1, Student.name == \"张三\"\n",
    "    )\n",
    "    print(\"and_where1\", str(stmt))\n",
    "    # 使用where默认就是and，多个where形式\n",
    "    stmt = select(Student).where(\n",
    "        Student.id == 1).where(Student.name == \"张三\")\n",
    "    print(\"and_where2\", str(stmt))\n",
    "    # 使用 and_\n",
    "    stmt = select(Student).filter(\n",
    "        and_(Student.id == 1, Student.name == \"张三\")\n",
    "    )\n",
    "    print(\"and_where3\", str(stmt))"
   ],
   "metadata": {
    "collapsed": false,
    "ExecuteTime": {
     "end_time": "2023-08-10T15:30:49.516497Z",
     "start_time": "2023-08-10T15:30:49.512271Z"
    }
   }
  },
  {
   "cell_type": "code",
   "execution_count": 22,
   "outputs": [
    {
     "name": "stdout",
     "output_type": "stream",
     "text": [
      "====1.x====\n",
      "or_filter SELECT student.id AS student_id, student.name AS student_name, student.age AS student_age, student.t_id AS student_t_id \n",
      "FROM student \n",
      "WHERE student.id = %(id_1)s OR student.id = %(id_2)s\n",
      "====2.x====\n",
      "or_where SELECT student.id, student.name, student.age, student.t_id \n",
      "FROM student \n",
      "WHERE student.id = :id_1 OR student.id = :id_2\n"
     ]
    }
   ],
   "source": [
    "# OR\n",
    "with UsingAlchemy() as ua:\n",
    "    print(\"====1.x====\")\n",
    "    query = ua.session.query(Student).filter(\n",
    "        or_(Student.id == 1, Student.id == 4)\n",
    "    )\n",
    "    print(\"or_filter\", query)\n",
    "\n",
    "    print(\"====2.x====\")\n",
    "    stmt = select(Student).where(\n",
    "        or_(Student.id == 1, Student.id == 4)\n",
    "    )\n",
    "    print(\"or_where\", stmt)"
   ],
   "metadata": {
    "collapsed": false,
    "ExecuteTime": {
     "end_time": "2023-08-10T15:32:52.318803Z",
     "start_time": "2023-08-10T15:32:52.315872Z"
    }
   }
  },
  {
   "cell_type": "code",
   "execution_count": 24,
   "outputs": [
    {
     "name": "stdout",
     "output_type": "stream",
     "text": [
      "====1.x====\n",
      "not_filter SELECT student.id AS student_id, student.name AS student_name, student.age AS student_age, student.t_id AS student_t_id \n",
      "FROM student \n",
      "WHERE student.id != %(id_1)s\n",
      "====2.x====\n",
      "not_where SELECT student.id, student.name, student.age, student.t_id \n",
      "FROM student \n",
      "WHERE student.id != :id_1\n"
     ]
    }
   ],
   "source": [
    "# NOT\n",
    "with UsingAlchemy() as ua:\n",
    "    print(\"====1.x====\")\n",
    "    query = ua.session.query(Student).filter(\n",
    "        not_(Student.id == 1)\n",
    "    )\n",
    "    print(\"not_filter\", query)\n",
    "\n",
    "    print(\"====2.x====\")\n",
    "    stmt = select(Student).where(\n",
    "        not_(Student.id == 1)\n",
    "    )\n",
    "    print(\"not_where\", stmt)"
   ],
   "metadata": {
    "collapsed": false,
    "ExecuteTime": {
     "end_time": "2023-08-10T15:34:44.761862Z",
     "start_time": "2023-08-10T15:34:44.757987Z"
    }
   }
  },
  {
   "cell_type": "code",
   "execution_count": 26,
   "outputs": [
    {
     "name": "stdout",
     "output_type": "stream",
     "text": [
      "====1.x====\n",
      "多条件查询_filter SELECT student.id AS student_id, student.name AS student_name, student.age AS student_age, student.t_id AS student_t_id \n",
      "FROM student \n",
      "WHERE true = 1 AND student.name = %(name_1)s AND student.age = %(age_1)s\n",
      "====2.x====\n",
      "多条件查询_filter SELECT student.id, student.name, student.age, student.t_id \n",
      "FROM student \n",
      "WHERE true AND student.name = :name_1 AND student.age = :age_1\n"
     ]
    }
   ],
   "source": [
    "# 多条件查询\n",
    "with UsingAlchemy() as ua:\n",
    "    print(\"====1.x====\")\n",
    "    student_id = None\n",
    "    student_name = \"张三\"\n",
    "    student_age = 18\n",
    "    query = ua.session.query(Student).filter(\n",
    "        or_(Student.id == student_id, student_id is None),\n",
    "        or_(Student.name == student_name, student_name is None),\n",
    "        or_(Student.age == student_age, student_age is None),\n",
    "    )\n",
    "    print(\"多条件查询_filter\", query)\n",
    "\n",
    "    print(\"====2.x====\")\n",
    "    student_id = None\n",
    "    student_name = \"张三\"\n",
    "    student_age = 18\n",
    "    stmt = select(Student).where(\n",
    "        or_(Student.id == student_id, student_id is None),\n",
    "        or_(Student.name == student_name, student_name is None),\n",
    "        or_(Student.age == student_age, student_age is None),\n",
    "    )\n",
    "    print(\"多条件查询_where\", stmt)"
   ],
   "metadata": {
    "collapsed": false,
    "ExecuteTime": {
     "end_time": "2023-08-10T15:36:26.579395Z",
     "start_time": "2023-08-10T15:36:26.577251Z"
    }
   }
  }
 ],
 "metadata": {
  "kernelspec": {
   "display_name": "Python 3",
   "language": "python",
   "name": "python3"
  },
  "language_info": {
   "codemirror_mode": {
    "name": "ipython",
    "version": 2
   },
   "file_extension": ".py",
   "mimetype": "text/x-python",
   "name": "python",
   "nbconvert_exporter": "python",
   "pygments_lexer": "ipython2",
   "version": "2.7.6"
  }
 },
 "nbformat": 4,
 "nbformat_minor": 0
}
